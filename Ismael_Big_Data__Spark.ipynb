{
  "nbformat": 4,
  "nbformat_minor": 0,
  "metadata": {
    "colab": {
      "provenance": []
    },
    "kernelspec": {
      "name": "python3",
      "display_name": "Python 3"
    },
    "language_info": {
      "name": "python"
    }
  },
  "cells": [
    {
      "cell_type": "markdown",
      "source": [
        "# BIG DATA PROJECTS SPARK"
      ],
      "metadata": {
        "id": "WeomQjvOxblT"
      }
    },
    {
      "cell_type": "markdown",
      "source": [
        "# Install and configure Spark on colab"
      ],
      "metadata": {
        "id": "0enmWKTVgeSm"
      }
    },
    {
      "cell_type": "code",
      "execution_count": 1,
      "metadata": {
        "colab": {
          "base_uri": "https://localhost:8080/"
        },
        "id": "x-1EKYpFd4da",
        "outputId": "0973f025-0258-4e8b-f15e-429c76d95734"
      },
      "outputs": [
        {
          "output_type": "stream",
          "name": "stdout",
          "text": [
            "Requirement already satisfied: pyspark in /usr/local/lib/python3.11/dist-packages (3.5.5)\n",
            "Requirement already satisfied: py4j==0.10.9.7 in /usr/local/lib/python3.11/dist-packages (from pyspark) (0.10.9.7)\n"
          ]
        }
      ],
      "source": [
        "# Install PySpark and Java\n",
        "!apt-get install openjdk-8-jdk-headless -qq > /dev/null\n",
        "!pip install pyspark\n"
      ]
    },
    {
      "cell_type": "code",
      "source": [
        "import pyspark\n",
        "print(pyspark.__version__)  # Check if PySpark is installed\n"
      ],
      "metadata": {
        "colab": {
          "base_uri": "https://localhost:8080/"
        },
        "id": "BWa9NPi2gw1P",
        "outputId": "a450e32f-edfb-4806-c8a6-00bcf2a97dcc"
      },
      "execution_count": 2,
      "outputs": [
        {
          "output_type": "stream",
          "name": "stdout",
          "text": [
            "3.5.5\n"
          ]
        }
      ]
    },
    {
      "cell_type": "code",
      "source": [
        "# Library\n",
        "from pyspark.sql import SparkSession\n",
        "from pyspark.sql.functions import col\n",
        "from pyspark.ml.feature import StringIndexer, VectorAssembler, Imputer\n",
        "from pyspark.ml.classification import RandomForestClassifier\n",
        "from pyspark.ml.evaluation import BinaryClassificationEvaluator\n",
        "from pyspark.ml import Pipeline\n"
      ],
      "metadata": {
        "id": "X_ghSyfOg0KO"
      },
      "execution_count": 3,
      "outputs": []
    },
    {
      "cell_type": "code",
      "source": [
        "# Create Spark Session\n",
        "spark = SparkSession.builder.appName(\"HeartDiseasePrediction\").getOrCreate()\n"
      ],
      "metadata": {
        "id": "dX8Qsll0g5CH"
      },
      "execution_count": 4,
      "outputs": []
    },
    {
      "cell_type": "markdown",
      "source": [
        "# PIPELINE"
      ],
      "metadata": {
        "id": "gh6nvONGhbVH"
      }
    },
    {
      "cell_type": "markdown",
      "source": [
        "## 1. Load and preprocess the data (handle missing values, categorical encoding)."
      ],
      "metadata": {
        "id": "IdXALe1XiPaH"
      }
    },
    {
      "cell_type": "code",
      "source": [
        "from google.colab import files\n",
        "\n",
        "# Upload the CSV file manually\n",
        "uploaded = files.upload()\n",
        "\n",
        "# Read the dataset using Spark\n",
        "df = spark.read.csv(\"HeartDiseaseUCI.csv\", header=True, inferSchema=True)\n",
        "\n",
        "# Display first few rows\n",
        "df.show(5)\n"
      ],
      "metadata": {
        "colab": {
          "base_uri": "https://localhost:8080/",
          "height": 264
        },
        "id": "epT3yST4g8v_",
        "outputId": "6df0c673-e8ce-4684-feb7-15db7c22105b"
      },
      "execution_count": 9,
      "outputs": [
        {
          "output_type": "display_data",
          "data": {
            "text/plain": [
              "<IPython.core.display.HTML object>"
            ],
            "text/html": [
              "\n",
              "     <input type=\"file\" id=\"files-6a2fe696-053a-47ef-a20f-098097b96852\" name=\"files[]\" multiple disabled\n",
              "        style=\"border:none\" />\n",
              "     <output id=\"result-6a2fe696-053a-47ef-a20f-098097b96852\">\n",
              "      Upload widget is only available when the cell has been executed in the\n",
              "      current browser session. Please rerun this cell to enable.\n",
              "      </output>\n",
              "      <script>// Copyright 2017 Google LLC\n",
              "//\n",
              "// Licensed under the Apache License, Version 2.0 (the \"License\");\n",
              "// you may not use this file except in compliance with the License.\n",
              "// You may obtain a copy of the License at\n",
              "//\n",
              "//      http://www.apache.org/licenses/LICENSE-2.0\n",
              "//\n",
              "// Unless required by applicable law or agreed to in writing, software\n",
              "// distributed under the License is distributed on an \"AS IS\" BASIS,\n",
              "// WITHOUT WARRANTIES OR CONDITIONS OF ANY KIND, either express or implied.\n",
              "// See the License for the specific language governing permissions and\n",
              "// limitations under the License.\n",
              "\n",
              "/**\n",
              " * @fileoverview Helpers for google.colab Python module.\n",
              " */\n",
              "(function(scope) {\n",
              "function span(text, styleAttributes = {}) {\n",
              "  const element = document.createElement('span');\n",
              "  element.textContent = text;\n",
              "  for (const key of Object.keys(styleAttributes)) {\n",
              "    element.style[key] = styleAttributes[key];\n",
              "  }\n",
              "  return element;\n",
              "}\n",
              "\n",
              "// Max number of bytes which will be uploaded at a time.\n",
              "const MAX_PAYLOAD_SIZE = 100 * 1024;\n",
              "\n",
              "function _uploadFiles(inputId, outputId) {\n",
              "  const steps = uploadFilesStep(inputId, outputId);\n",
              "  const outputElement = document.getElementById(outputId);\n",
              "  // Cache steps on the outputElement to make it available for the next call\n",
              "  // to uploadFilesContinue from Python.\n",
              "  outputElement.steps = steps;\n",
              "\n",
              "  return _uploadFilesContinue(outputId);\n",
              "}\n",
              "\n",
              "// This is roughly an async generator (not supported in the browser yet),\n",
              "// where there are multiple asynchronous steps and the Python side is going\n",
              "// to poll for completion of each step.\n",
              "// This uses a Promise to block the python side on completion of each step,\n",
              "// then passes the result of the previous step as the input to the next step.\n",
              "function _uploadFilesContinue(outputId) {\n",
              "  const outputElement = document.getElementById(outputId);\n",
              "  const steps = outputElement.steps;\n",
              "\n",
              "  const next = steps.next(outputElement.lastPromiseValue);\n",
              "  return Promise.resolve(next.value.promise).then((value) => {\n",
              "    // Cache the last promise value to make it available to the next\n",
              "    // step of the generator.\n",
              "    outputElement.lastPromiseValue = value;\n",
              "    return next.value.response;\n",
              "  });\n",
              "}\n",
              "\n",
              "/**\n",
              " * Generator function which is called between each async step of the upload\n",
              " * process.\n",
              " * @param {string} inputId Element ID of the input file picker element.\n",
              " * @param {string} outputId Element ID of the output display.\n",
              " * @return {!Iterable<!Object>} Iterable of next steps.\n",
              " */\n",
              "function* uploadFilesStep(inputId, outputId) {\n",
              "  const inputElement = document.getElementById(inputId);\n",
              "  inputElement.disabled = false;\n",
              "\n",
              "  const outputElement = document.getElementById(outputId);\n",
              "  outputElement.innerHTML = '';\n",
              "\n",
              "  const pickedPromise = new Promise((resolve) => {\n",
              "    inputElement.addEventListener('change', (e) => {\n",
              "      resolve(e.target.files);\n",
              "    });\n",
              "  });\n",
              "\n",
              "  const cancel = document.createElement('button');\n",
              "  inputElement.parentElement.appendChild(cancel);\n",
              "  cancel.textContent = 'Cancel upload';\n",
              "  const cancelPromise = new Promise((resolve) => {\n",
              "    cancel.onclick = () => {\n",
              "      resolve(null);\n",
              "    };\n",
              "  });\n",
              "\n",
              "  // Wait for the user to pick the files.\n",
              "  const files = yield {\n",
              "    promise: Promise.race([pickedPromise, cancelPromise]),\n",
              "    response: {\n",
              "      action: 'starting',\n",
              "    }\n",
              "  };\n",
              "\n",
              "  cancel.remove();\n",
              "\n",
              "  // Disable the input element since further picks are not allowed.\n",
              "  inputElement.disabled = true;\n",
              "\n",
              "  if (!files) {\n",
              "    return {\n",
              "      response: {\n",
              "        action: 'complete',\n",
              "      }\n",
              "    };\n",
              "  }\n",
              "\n",
              "  for (const file of files) {\n",
              "    const li = document.createElement('li');\n",
              "    li.append(span(file.name, {fontWeight: 'bold'}));\n",
              "    li.append(span(\n",
              "        `(${file.type || 'n/a'}) - ${file.size} bytes, ` +\n",
              "        `last modified: ${\n",
              "            file.lastModifiedDate ? file.lastModifiedDate.toLocaleDateString() :\n",
              "                                    'n/a'} - `));\n",
              "    const percent = span('0% done');\n",
              "    li.appendChild(percent);\n",
              "\n",
              "    outputElement.appendChild(li);\n",
              "\n",
              "    const fileDataPromise = new Promise((resolve) => {\n",
              "      const reader = new FileReader();\n",
              "      reader.onload = (e) => {\n",
              "        resolve(e.target.result);\n",
              "      };\n",
              "      reader.readAsArrayBuffer(file);\n",
              "    });\n",
              "    // Wait for the data to be ready.\n",
              "    let fileData = yield {\n",
              "      promise: fileDataPromise,\n",
              "      response: {\n",
              "        action: 'continue',\n",
              "      }\n",
              "    };\n",
              "\n",
              "    // Use a chunked sending to avoid message size limits. See b/62115660.\n",
              "    let position = 0;\n",
              "    do {\n",
              "      const length = Math.min(fileData.byteLength - position, MAX_PAYLOAD_SIZE);\n",
              "      const chunk = new Uint8Array(fileData, position, length);\n",
              "      position += length;\n",
              "\n",
              "      const base64 = btoa(String.fromCharCode.apply(null, chunk));\n",
              "      yield {\n",
              "        response: {\n",
              "          action: 'append',\n",
              "          file: file.name,\n",
              "          data: base64,\n",
              "        },\n",
              "      };\n",
              "\n",
              "      let percentDone = fileData.byteLength === 0 ?\n",
              "          100 :\n",
              "          Math.round((position / fileData.byteLength) * 100);\n",
              "      percent.textContent = `${percentDone}% done`;\n",
              "\n",
              "    } while (position < fileData.byteLength);\n",
              "  }\n",
              "\n",
              "  // All done.\n",
              "  yield {\n",
              "    response: {\n",
              "      action: 'complete',\n",
              "    }\n",
              "  };\n",
              "}\n",
              "\n",
              "scope.google = scope.google || {};\n",
              "scope.google.colab = scope.google.colab || {};\n",
              "scope.google.colab._files = {\n",
              "  _uploadFiles,\n",
              "  _uploadFilesContinue,\n",
              "};\n",
              "})(self);\n",
              "</script> "
            ]
          },
          "metadata": {}
        },
        {
          "output_type": "stream",
          "name": "stdout",
          "text": [
            "Saving HeartDiseaseUCI.csv to HeartDiseaseUCI (1).csv\n",
            "+---+---+---+---+--------+----+---+-------+-------+-----+-------+-----+---+----+---+\n",
            "|_c0|age|sex| cp|trestbps|chol|fbs|restecg|thalach|exang|oldpeak|slope| ca|thal|num|\n",
            "+---+---+---+---+--------+----+---+-------+-------+-----+-------+-----+---+----+---+\n",
            "|  1| 63|  1|  1|     145| 233|  1|      2|    150|    0|    2.3|    3|  0|   6|  0|\n",
            "|  2| 67|  1|  4|     160| 286|  0|      2|    108|    1|    1.5|    2|  3|   3|  2|\n",
            "|  3| 67|  1|  4|     120| 229|  0|      2|    129|    1|    2.6|    2|  2|   7|  1|\n",
            "|  4| 37|  1|  3|     130| 250|  0|      0|    187|    0|    3.5|    3|  0|   3|  0|\n",
            "|  5| 41|  0|  2|     130| 204|  0|      2|    172|    0|    1.4|    1|  0|   3|  0|\n",
            "+---+---+---+---+--------+----+---+-------+-------+-----+-------+-----+---+----+---+\n",
            "only showing top 5 rows\n",
            "\n"
          ]
        }
      ]
    },
    {
      "cell_type": "code",
      "source": [
        "from pyspark.sql.types import IntegerType, DoubleType\n",
        "\n",
        "# Get a list of numeric columns\n",
        "numeric_cols = [c for c, dtype in df.dtypes if dtype in ('int', 'double')]\n",
        "\n",
        "# Fill missing values with mean for numeric columns only\n",
        "imputer = Imputer(inputCols=numeric_cols, outputCols=numeric_cols).setStrategy(\"mean\")\n",
        "df = imputer.fit(df).transform(df)\n"
      ],
      "metadata": {
        "id": "PxZMFw7IigLT"
      },
      "execution_count": 11,
      "outputs": []
    },
    {
      "cell_type": "markdown",
      "source": [
        "## 2. Feature engineering"
      ],
      "metadata": {
        "id": "jRxMVDz5i2q9"
      }
    },
    {
      "cell_type": "code",
      "source": [
        "categorical_columns = [\"sex\", \"cp\", \"fbs\", \"restecg\", \"exang\", \"slope\", \"thal\"]\n",
        "indexers = [StringIndexer(inputCol=col, outputCol=col+\"_indexed\") for col in categorical_columns]\n"
      ],
      "metadata": {
        "id": "rhA-3gEvihLV"
      },
      "execution_count": 12,
      "outputs": []
    },
    {
      "cell_type": "code",
      "source": [
        "feature_cols = [c+\"_indexed\" for c in categorical_columns] + [\"age\", \"trestbps\", \"chol\", \"thalach\", \"oldpeak\"]\n",
        "assembler = VectorAssembler(inputCols=feature_cols, outputCol=\"features\")\n"
      ],
      "metadata": {
        "id": "L0WqazSfkOeq"
      },
      "execution_count": 13,
      "outputs": []
    },
    {
      "cell_type": "markdown",
      "source": [
        "## 3. Split data into training and testing sets"
      ],
      "metadata": {
        "id": "5ZbGccpvkHaT"
      }
    },
    {
      "cell_type": "code",
      "source": [
        "(train_data, test_data) = df.randomSplit([0.8, 0.2], seed=42)\n"
      ],
      "metadata": {
        "id": "qlDrAj3Wiv2x"
      },
      "execution_count": 14,
      "outputs": []
    },
    {
      "cell_type": "markdown",
      "source": [
        "## 4. Train a model using Random Forest"
      ],
      "metadata": {
        "id": "9X8zYRsJkVyK"
      }
    },
    {
      "cell_type": "code",
      "source": [
        "rf = RandomForestClassifier(labelCol=\"target\", featuresCol=\"features\", numTrees=100)\n"
      ],
      "metadata": {
        "id": "L1de1I8akRQ7"
      },
      "execution_count": 24,
      "outputs": []
    },
    {
      "cell_type": "code",
      "source": [
        "\n",
        "rf = RandomForestClassifier(labelCol=\"num\", featuresCol=\"features\", numTrees=100)\n",
        "\n",
        "pipeline = Pipeline(stages=indexers + [assembler, rf])\n",
        "model = pipeline.fit(train_data)\n"
      ],
      "metadata": {
        "id": "0E5vdSy3ks4P"
      },
      "execution_count": 25,
      "outputs": []
    },
    {
      "cell_type": "markdown",
      "source": [
        "## 5. Evaluate using ROC AUC"
      ],
      "metadata": {
        "id": "H-wQwXDDkj9o"
      }
    },
    {
      "cell_type": "code",
      "source": [
        "from pyspark.ml.evaluation import MulticlassClassificationEvaluator\n",
        "\n",
        "evaluator = MulticlassClassificationEvaluator(labelCol=\"target\", predictionCol=\"prediction\", metricName=\"accuracy\")\n",
        "accuracy = evaluator.evaluate(predictions)\n",
        "print(f\"Accuracy: {accuracy}\")\n"
      ],
      "metadata": {
        "colab": {
          "base_uri": "https://localhost:8080/"
        },
        "id": "5TEM2aEIkbJX",
        "outputId": "fb78ec2a-cb57-4b7a-a5bf-cfc531a8551d"
      },
      "execution_count": 31,
      "outputs": [
        {
          "output_type": "stream",
          "name": "stdout",
          "text": [
            "Accuracy: 0.5957446808510638\n"
          ]
        }
      ]
    },
    {
      "cell_type": "markdown",
      "source": [
        "# 6. Improve the models"
      ],
      "metadata": {
        "id": "VGz1-ujuvmlT"
      }
    },
    {
      "cell_type": "code",
      "source": [
        "# Check class distribution\n",
        "df.groupBy(\"target\").count().show()\n"
      ],
      "metadata": {
        "colab": {
          "base_uri": "https://localhost:8080/"
        },
        "id": "3Cb-Io0klGjb",
        "outputId": "d534e29d-12c4-4b97-aa75-8c929c8c465f"
      },
      "execution_count": 32,
      "outputs": [
        {
          "output_type": "stream",
          "name": "stdout",
          "text": [
            "+------+-----+\n",
            "|target|count|\n",
            "+------+-----+\n",
            "|     1|   55|\n",
            "|     3|   35|\n",
            "|     4|   13|\n",
            "|     2|   36|\n",
            "|     0|  164|\n",
            "+------+-----+\n",
            "\n"
          ]
        }
      ]
    },
    {
      "cell_type": "code",
      "source": [
        "# Resampling\n",
        "from pyspark.sql.functions import col\n",
        "\n",
        "# Find the max class count (class 0 has 164 instances)\n",
        "max_count = df.groupBy(\"target\").count().orderBy(\"count\", ascending=False).first()[\"count\"]\n",
        "\n",
        "# Function to balance dataset\n",
        "def balance_classes(df, target_col):\n",
        "    balanced_df = None\n",
        "    for label, count in df.groupBy(target_col).count().collect():\n",
        "        oversample_ratio = max_count / count  # Compute ratio\n",
        "        sampled_df = df.filter(col(target_col) == label).sample(True, oversample_ratio)  # Oversample\n",
        "        balanced_df = sampled_df if balanced_df is None else balanced_df.union(sampled_df)\n",
        "    return balanced_df\n",
        "\n",
        "# Apply the balancing function\n",
        "df_balanced = balance_classes(df, \"target\")\n",
        "df_balanced.groupBy(\"target\").count().show()  # Check new class distribution\n"
      ],
      "metadata": {
        "colab": {
          "base_uri": "https://localhost:8080/"
        },
        "id": "fmtZDn3ErDdQ",
        "outputId": "866cd63a-b0eb-41ae-ca00-0f33b8f50be8"
      },
      "execution_count": 33,
      "outputs": [
        {
          "output_type": "stream",
          "name": "stdout",
          "text": [
            "+------+-----+\n",
            "|target|count|\n",
            "+------+-----+\n",
            "|     1|  168|\n",
            "|     3|  145|\n",
            "|     4|  182|\n",
            "|     2|  149|\n",
            "|     0|  144|\n",
            "+------+-----+\n",
            "\n"
          ]
        }
      ]
    },
    {
      "cell_type": "code",
      "source": [
        "# Try a another model : Gradient Boosting\n",
        "\n",
        "from pyspark.ml.classification import GBTClassifier\n",
        "from pyspark.sql.functions import when\n",
        "\n",
        "# Ensure the 'target' column only contains 0 and 1\n",
        "# If target values are other than 0 or 1, convert them to 0\n",
        "train_data = train_data.withColumn(\"target\", when(train_data[\"target\"] == 1, 1).otherwise(0))\n",
        "test_data = test_data.withColumn(\"target\", when(test_data[\"target\"] == 1, 1).otherwise(0))\n",
        "\n",
        "gbt = GBTClassifier(labelCol=\"target\", featuresCol=\"features\", maxIter=100)\n",
        "pipeline = Pipeline(stages=indexers + [assembler, gbt])\n",
        "model = pipeline.fit(train_data)\n",
        "\n",
        "predictions = model.transform(test_data)\n"
      ],
      "metadata": {
        "id": "2c7xfGDdre5f"
      },
      "execution_count": 35,
      "outputs": []
    },
    {
      "cell_type": "code",
      "source": [
        "# Use Weighted Class Balancing (Assign Higher Weights to Minority Classes)\n",
        "from pyspark.sql.functions import when\n",
        "\n",
        "# Compute class weights\n",
        "total_samples = df.count()\n",
        "class_weights = df.groupBy(\"target\").count().withColumn(\"weight\", total_samples / col(\"count\"))\n",
        "\n",
        "# Join with the original dataset\n",
        "df_weighted = df.join(class_weights.select(\"target\", \"weight\"), on=\"target\")\n",
        "\n",
        "# Adjust model with weightCol\n",
        "rf = RandomForestClassifier(labelCol=\"target\", featuresCol=\"features\", weightCol=\"weight\", numTrees=100)\n"
      ],
      "metadata": {
        "id": "lgdJZl3fsUzR"
      },
      "execution_count": 36,
      "outputs": []
    },
    {
      "cell_type": "code",
      "source": [
        "from pyspark.ml.evaluation import MulticlassClassificationEvaluator\n",
        "\n",
        "# Use \"prediction\" column for accuracy calculation\n",
        "evaluator = MulticlassClassificationEvaluator(labelCol=\"target\", predictionCol=\"prediction\", metricName=\"accuracy\")\n",
        "\n",
        "# Evaluate the new model\n",
        "accuracy = evaluator.evaluate(predictions)\n",
        "print(f\"Updated Accuracy: {accuracy}\")\n"
      ],
      "metadata": {
        "colab": {
          "base_uri": "https://localhost:8080/"
        },
        "id": "jAZTFCsRsZSI",
        "outputId": "dd943187-ace8-42f4-df9f-4d087fb1f7ab"
      },
      "execution_count": 37,
      "outputs": [
        {
          "output_type": "stream",
          "name": "stdout",
          "text": [
            "Updated Accuracy: 0.7872340425531915\n"
          ]
        }
      ]
    },
    {
      "cell_type": "code",
      "source": [
        "# Transform the test data using the trained pipeline model\n",
        "predictions = model.transform(test_data)\n"
      ],
      "metadata": {
        "id": "73Bkszfftrzs"
      },
      "execution_count": 38,
      "outputs": []
    },
    {
      "cell_type": "code",
      "source": [
        "rf = RandomForestClassifier(labelCol=\"num\", featuresCol=\"features\", numTrees=100)"
      ],
      "metadata": {
        "id": "R4lTXIGVt-yh"
      },
      "execution_count": 40,
      "outputs": []
    },
    {
      "cell_type": "code",
      "source": [
        "# Show predictions alongside the actual label and predicted probability\n",
        "predictions.select(\"target\", \"prediction\", \"probability\").show(10)"
      ],
      "metadata": {
        "colab": {
          "base_uri": "https://localhost:8080/"
        },
        "id": "QcnifVXmtvWq",
        "outputId": "8778ce26-80a6-41db-ac3f-77c7769831c1"
      },
      "execution_count": 41,
      "outputs": [
        {
          "output_type": "stream",
          "name": "stdout",
          "text": [
            "+------+----------+--------------------+\n",
            "|target|prediction|         probability|\n",
            "+------+----------+--------------------+\n",
            "|     1|       0.0|[0.97419072860503...|\n",
            "|     0|       0.0|[0.98526407084945...|\n",
            "|     0|       0.0|[0.72039463660067...|\n",
            "|     0|       0.0|[0.93369415996233...|\n",
            "|     0|       0.0|[0.98379154274471...|\n",
            "|     0|       0.0|[0.95981687447955...|\n",
            "|     0|       0.0|[0.77529469657789...|\n",
            "|     0|       0.0|[0.95213935621222...|\n",
            "|     0|       0.0|[0.98366959237480...|\n",
            "|     0|       0.0|[0.76748140252849...|\n",
            "+------+----------+--------------------+\n",
            "only showing top 10 rows\n",
            "\n"
          ]
        }
      ]
    }
  ]
}